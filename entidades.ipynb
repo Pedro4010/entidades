{
  "nbformat": 4,
  "nbformat_minor": 0,
  "metadata": {
    "colab": {
      "name": "entidades.ipynb",
      "provenance": [],
      "collapsed_sections": [],
      "authorship_tag": "ABX9TyOnDjm8Y0+tTiTOW6fwjl+g",
      "include_colab_link": true
    },
    "kernelspec": {
      "name": "python3",
      "display_name": "Python 3"
    },
    "language_info": {
      "name": "python"
    }
  },
  "cells": [
    {
      "cell_type": "markdown",
      "metadata": {
        "id": "view-in-github",
        "colab_type": "text"
      },
      "source": [
        "<a href=\"https://colab.research.google.com/github/Pedro4010/entidades/blob/main/entidades.ipynb\" target=\"_parent\"><img src=\"https://colab.research.google.com/assets/colab-badge.svg\" alt=\"Open In Colab\"/></a>"
      ]
    },
    {
      "cell_type": "code",
      "execution_count": null,
      "metadata": {
        "id": "9XupCN599_h7"
      },
      "outputs": [],
      "source": [
        "import requests\n",
        "from bs4 import BeautifulSoup"
      ]
    },
    {
      "cell_type": "code",
      "source": [
        "url = 'https://www.globo.com/'"
      ],
      "metadata": {
        "id": "dg_uMw8mB0kP"
      },
      "execution_count": null,
      "outputs": []
    },
    {
      "cell_type": "code",
      "source": [
        "response = requests.get(url).content\n",
        "soup = BeautifulSoup(response, 'html.parser')\n",
        "result = soup.find_all('h3', class_='post__title')"
      ],
      "metadata": {
        "id": "FiDvWBP7CAi9"
      },
      "execution_count": null,
      "outputs": []
    },
    {
      "cell_type": "code",
      "source": [
        "all_titles =[]\n",
        "for title in result:\n",
        "  all_titles.append(title.text)\n"
      ],
      "metadata": {
        "id": "cq0O3LiEC9CN"
      },
      "execution_count": null,
      "outputs": []
    },
    {
      "cell_type": "code",
      "source": [
        "all_titles"
      ],
      "metadata": {
        "colab": {
          "base_uri": "https://localhost:8080/"
        },
        "id": "pNeDzj3EDLy9",
        "outputId": "003d150e-61ff-4540-d9e3-4dd40b3c562c"
      },
      "execution_count": null,
      "outputs": [
        {
          "output_type": "execute_result",
          "data": {
            "text/plain": [
              "['EUA dizem que Rússia acelerou atividade militar na fronteira com Ucrânia',\n",
              " 'Voos que deveriam aterrissar na Ucrânia são redirecionados na Europa',\n",
              " ' Risco de iminente ataque à Ucrânia deixa a Otan em alerta permanente ',\n",
              " 'Vídeo: funcionários americanos da OSCE deixam Donetsk',\n",
              " 'Gol de cabeça aos 48 de Gabi Zanotti dá título da Supercopa para o Timão',\n",
              " 'Fabinho garante vitória apertada do Liverpool contra lanterna Burnley',\n",
              " 'Com assistência de goleiro, Milan vence e vai a 1º lugar no Italiano',\n",
              " 'Palmeiras espera assédio sobre Danilo, eleito 3º melhor do Mundial',\n",
              " 'Elenco foca no lado positivo ',\n",
              " 'Douglas Silva propõe Paredão inédito',\n",
              " 'Brother admite que não consegue não gostar de Jade ',\n",
              " \"Sobrancelha de Jade e bigode de Paulo André 'se conectam' e web 'pira'\",\n",
              " 'Jade avalia indicação',\n",
              " \"Eslô sobre Arthur: 'Único a ver tudo'\",\n",
              " 'Gustavo e Larissa devem ser participantes do BBB? ',\n",
              " 'Partido Novo em SP expulsa vereadora após briga ',\n",
              " 'Cantor de forró morre em briga de trânsito no CE',\n",
              " \" Barroso: Bolsonaro 'facilitou a vida das milícias digitais’\",\n",
              " ' Fake news seguem em expansão, diz estudo ',\n",
              " 'Advogado morre com soco em discussão após final',\n",
              " \" 'Nunca brigou', diz amigo de motoboy morto\",\n",
              " 'Compare Centro de SP hoje e na Semana de Arte Moderna',\n",
              " 'Onde foram parar as obras da Semana de 22',\n",
              " 'Morre João Carlos di Genio, fundador do grupo Unip/Objetivo',\n",
              " 'Brasil perdeu mais de 2,5 mil creches particulares ',\n",
              " ' Crise sanitária estreita laços de famílias com o SUS ',\n",
              " 'Ômicron: veja principais sintomas atualmente',\n",
              " 'Brothers observam moradores da Casa de Vidro na piscina',\n",
              " \"Larissa cita 'gente falsa' e sister concorda: 'Visualizei'\",\n",
              " \"Gustavo opina sobre sister: 'Está sendo protagonista'\",\n",
              " 'Sete produtos inovadores da Xiaomi que são pouco conhecidos',\n",
              " 'Spam no celular pode chegar na hora mais inconveniente; saiba bloquear',\n",
              " '5 ações comuns no celular que podem causar travamento e lentidão',\n",
              " ' FURIA e KaBUM duelam pela liderança do CBLOL; ambos só perderam uma vez',\n",
              " 'Inspirada em Anitta, Pocah fala sobre novo disco, parceria e da relação abusiva com ex',\n",
              " ' Martinho da Vila canta otimismo pelo país em novo álbum com Djonga e Teresa Cristina ',\n",
              " \"Podcast 'G1 Ouviu': MC Danny começou no funk consciente e estourou no forró sensual\",\n",
              " 'Veja passo a passo para fazer salmão frito na manteiga com tempero de chimichurri e limão',\n",
              " '5 queijos nacionais premiados fora do país para experimentar; Brasil perdeu só da França',\n",
              " 'Com duas batatas grandes, faça pão em casa que rende até 20 unidades',\n",
              " 'Davi é apresentado a Isadora como Rafael na segunda fase da novela',\n",
              " 'Neném, Paula, Flávia e Guilherme acordarão com os corpos trocados',\n",
              " 'Spoiler com repertório para Audições às Cegas tem sucessos de Caetano',\n",
              " 'Bárbara fica chocada ao saber que Renato foi esfaqueado',\n",
              " 'Reveja programa deste sábado com repercussão da festa, Casa de Vidro, treta e beijão de PA e Jade',\n",
              " 'Click: brothers projetam votos, Monstros pagam castigo e Casa de Vidro planeja próximos passos',\n",
              " 'Não perca nada do BBB22! Assine no Globoplay e veja 24 horas por dia',\n",
              " \"Em depoimento, suspeito de matar torcedor do Palmeiras diz que atirou em 'legítima defesa'\",\n",
              " 'Sintomas da ômicron: saiba quais são os principais sinais atualmente',\n",
              " 'Caso de mãe presa após filho ser morto por namorado abre polêmica nos EUA',\n",
              " \"Ex-BBB Sol Vega desabafa sobre morte do marido por covid-19: 'Li comentários que dão nojo'\",\n",
              " \" Sob pressão, Mario Frias explica custos da viagem a Nova York: 'Fui de classe econômica e dividi quarto' \",\n",
              " 'Recopa, reforços, renovações e vendas: o que Palmeiras terá pela frente após o vice no Mundial',\n",
              " 'Web tira sarro da derrota do Palmeiras no Mundial com memes; veja',\n",
              " ' Zagueiro Luan chora e é consolado por torcedores do Palmeiras após pênalti que decretou derrota no Mundial',\n",
              " \"Corinthians provoca Palmeiras por vice no Mundial: 'Ganhar deles não é fácil'\",\n",
              " ' Vice da Libertadores pelo Fla, Kenedy posa com taça de campeão do Mundial',\n",
              " 'Arthur Aguiar revela condição para indicar Jade Picon ao Paredão caso ganhe uma liderança no BBB 22',\n",
              " 'Arthur foi abandonado pelo pai biológico, cresceu no subúrbio e comprou casa para mãe',\n",
              " 'Rafa Kalimann e Mariana Goldfarb tomam banho de cachoeira juntas',\n",
              " 'Ex de Jade fica entre os assuntos mais comentados da web após ela beijar PA',\n",
              " 'Líder Jade Picon revela possível plano para próximo Paredão no BBB 22']"
            ]
          },
          "metadata": {},
          "execution_count": 9
        }
      ]
    },
    {
      "cell_type": "code",
      "source": [
        "noticia = '5 queijos nacionais premiados fora do país para experimentar; Brasil perdeu só da França' "
      ],
      "metadata": {
        "id": "Ps60lQPlEHv9"
      },
      "execution_count": null,
      "outputs": []
    },
    {
      "cell_type": "code",
      "source": [
        "import re\n",
        "from unicodedata import normalize"
      ],
      "metadata": {
        "id": "D3F39xPPEraF"
      },
      "execution_count": null,
      "outputs": []
    },
    {
      "cell_type": "code",
      "source": [
        "#Função para retirar pontos e acentos\n",
        "\n",
        "\n",
        "def normalizaTexto(texto):\n",
        "  output = re.sub(r'[-.;?!,\"()]','', texto)\n",
        "  output = normalize('NFKD',noticia).encode('ASCII','ignore').decode('ASCII')\n",
        "  return output.lower()"
      ],
      "metadata": {
        "id": "Kh51S0e-HGiQ"
      },
      "execution_count": null,
      "outputs": []
    },
    {
      "cell_type": "code",
      "source": [
        "normalizaTexto(noticia)"
      ],
      "metadata": {
        "colab": {
          "base_uri": "https://localhost:8080/",
          "height": 35
        },
        "id": "wzw1BUAXEsnV",
        "outputId": "c17b71c7-3c6b-4732-b79f-12e41ea33d71"
      },
      "execution_count": null,
      "outputs": [
        {
          "output_type": "execute_result",
          "data": {
            "application/vnd.google.colaboratory.intrinsic+json": {
              "type": "string"
            },
            "text/plain": [
              "'5 queijos nacionais premiados fora do pais para experimentar brasil perdeu so da franca'"
            ]
          },
          "metadata": {},
          "execution_count": 71
        }
      ]
    },
    {
      "cell_type": "code",
      "source": [
        "texto_normalizado = normalizaTexto(noticia)"
      ],
      "metadata": {
        "id": "A42FNR66GkZk"
      },
      "execution_count": null,
      "outputs": []
    },
    {
      "cell_type": "code",
      "source": [
        "tokens = texto_normalizado.split()"
      ],
      "metadata": {
        "id": "-taaecVVH7OW"
      },
      "execution_count": null,
      "outputs": []
    },
    {
      "cell_type": "code",
      "source": [
        "tokens "
      ],
      "metadata": {
        "colab": {
          "base_uri": "https://localhost:8080/"
        },
        "id": "RU9gRy8_H1fN",
        "outputId": "474aabfe-cfea-48b5-8767-44a829785f08"
      },
      "execution_count": null,
      "outputs": [
        {
          "output_type": "execute_result",
          "data": {
            "text/plain": [
              "['5',\n",
              " 'queijos',\n",
              " 'nacionais',\n",
              " 'premiados',\n",
              " 'fora',\n",
              " 'do',\n",
              " 'pais',\n",
              " 'para',\n",
              " 'experimentar',\n",
              " 'brasil',\n",
              " 'perdeu',\n",
              " 'so',\n",
              " 'da',\n",
              " 'franca']"
            ]
          },
          "metadata": {},
          "execution_count": 74
        }
      ]
    },
    {
      "cell_type": "code",
      "source": [
        "import nltk\n",
        "nltk.download('punkt')"
      ],
      "metadata": {
        "colab": {
          "base_uri": "https://localhost:8080/"
        },
        "id": "gNLwefQjIX_8",
        "outputId": "da414f51-6e3c-41d1-ac13-6cb7547d9e06"
      },
      "execution_count": null,
      "outputs": [
        {
          "output_type": "stream",
          "name": "stdout",
          "text": [
            "[nltk_data] Downloading package punkt to /root/nltk_data...\n",
            "[nltk_data]   Package punkt is already up-to-date!\n"
          ]
        },
        {
          "output_type": "execute_result",
          "data": {
            "text/plain": [
              "True"
            ]
          },
          "metadata": {},
          "execution_count": 90
        }
      ]
    },
    {
      "cell_type": "code",
      "source": [
        "tokens_1 = nltk.word_tokenize(texto_normalizado)"
      ],
      "metadata": {
        "id": "uC0K-0wzIv0k"
      },
      "execution_count": null,
      "outputs": []
    },
    {
      "cell_type": "code",
      "source": [
        "tokens_1"
      ],
      "metadata": {
        "colab": {
          "base_uri": "https://localhost:8080/"
        },
        "id": "BSFReVFBI670",
        "outputId": "d2ba9aca-c4ff-4732-db21-9e92b1b91681"
      },
      "execution_count": null,
      "outputs": [
        {
          "output_type": "execute_result",
          "data": {
            "text/plain": [
              "['5',\n",
              " 'queijos',\n",
              " 'nacionais',\n",
              " 'premiados',\n",
              " 'fora',\n",
              " 'do',\n",
              " 'pais',\n",
              " 'para',\n",
              " 'experimentar',\n",
              " 'brasil',\n",
              " 'perdeu',\n",
              " 'so',\n",
              " 'da',\n",
              " 'franca']"
            ]
          },
          "metadata": {},
          "execution_count": 92
        }
      ]
    },
    {
      "cell_type": "code",
      "source": [
        "my_stopwords = ['so','da','do']"
      ],
      "metadata": {
        "id": "ULm5OYRFLHBU"
      },
      "execution_count": null,
      "outputs": []
    },
    {
      "cell_type": "code",
      "source": [
        "for token in tokens_1:\n",
        "  if token not in my_stopwords:\n",
        "    print(token)\n"
      ],
      "metadata": {
        "colab": {
          "base_uri": "https://localhost:8080/"
        },
        "id": "I4hUkFRHLowz",
        "outputId": "23dc57c4-9ebc-4245-e717-09cc020c1f20"
      },
      "execution_count": null,
      "outputs": [
        {
          "output_type": "stream",
          "name": "stdout",
          "text": [
            "5\n",
            "queijos\n",
            "nacionais\n",
            "premiados\n",
            "fora\n",
            "pais\n",
            "para\n",
            "experimentar\n",
            "brasil\n",
            "perdeu\n",
            "franca\n"
          ]
        }
      ]
    },
    {
      "cell_type": "code",
      "source": [
        "from nltk.corpus import stopwords\n",
        "nltk.download('stopwords')"
      ],
      "metadata": {
        "colab": {
          "base_uri": "https://localhost:8080/"
        },
        "id": "PQG37It8L0Qi",
        "outputId": "32ef5dc5-23fc-4957-8a9b-8bfd69d52e00"
      },
      "execution_count": null,
      "outputs": [
        {
          "output_type": "stream",
          "name": "stdout",
          "text": [
            "[nltk_data] Downloading package stopwords to /root/nltk_data...\n",
            "[nltk_data]   Package stopwords is already up-to-date!\n"
          ]
        },
        {
          "output_type": "execute_result",
          "data": {
            "text/plain": [
              "True"
            ]
          },
          "metadata": {},
          "execution_count": 93
        }
      ]
    },
    {
      "cell_type": "code",
      "source": [
        "stopwords_list = stopwords.words('portuguese')"
      ],
      "metadata": {
        "id": "L4G4K4xhMAVD"
      },
      "execution_count": null,
      "outputs": []
    },
    {
      "cell_type": "code",
      "source": [
        "#Fazer a normalização da lista de stopwords (retirar os acentos). Deu erro no código e retornou a frase completa.\n",
        "stopwords_list\n",
        "\n"
      ],
      "metadata": {
        "id": "cUE2FwvqNYfs"
      },
      "execution_count": null,
      "outputs": []
    },
    {
      "cell_type": "code",
      "source": [
        "novo_texto = []\n",
        "\n",
        "for token in tokens_1:\n",
        "  if token not in stopwords_list:\n",
        "    novo_texto.append(token)"
      ],
      "metadata": {
        "id": "6JyoI4XsOVOK"
      },
      "execution_count": null,
      "outputs": []
    },
    {
      "cell_type": "code",
      "source": [
        "novo_texto"
      ],
      "metadata": {
        "colab": {
          "base_uri": "https://localhost:8080/"
        },
        "id": "WxTyujkFUE8J",
        "outputId": "fb3dfa47-48fe-4b9b-db75-5294a89a9d7b"
      },
      "execution_count": null,
      "outputs": [
        {
          "output_type": "execute_result",
          "data": {
            "text/plain": [
              "['5',\n",
              " 'queijos',\n",
              " 'nacionais',\n",
              " 'premiados',\n",
              " 'pais',\n",
              " 'experimentar',\n",
              " 'brasil',\n",
              " 'perdeu',\n",
              " 'so',\n",
              " 'franca']"
            ]
          },
          "metadata": {},
          "execution_count": 113
        }
      ]
    },
    {
      "cell_type": "code",
      "source": [
        "output = ' '.join(novo_texto)"
      ],
      "metadata": {
        "id": "lyuJ2j_0UmsZ"
      },
      "execution_count": null,
      "outputs": []
    },
    {
      "cell_type": "code",
      "source": [
        "output"
      ],
      "metadata": {
        "colab": {
          "base_uri": "https://localhost:8080/",
          "height": 35
        },
        "id": "v9KCJOXJUspR",
        "outputId": "7f6261fc-c585-434a-9c57-47f231ec7cb2"
      },
      "execution_count": null,
      "outputs": [
        {
          "output_type": "execute_result",
          "data": {
            "application/vnd.google.colaboratory.intrinsic+json": {
              "type": "string"
            },
            "text/plain": [
              "'5 queijos nacionais premiados pais experimentar brasil perdeu so franca'"
            ]
          },
          "metadata": {},
          "execution_count": 108
        }
      ]
    },
    {
      "cell_type": "code",
      "source": [
        "nltk.download('rslp')"
      ],
      "metadata": {
        "colab": {
          "base_uri": "https://localhost:8080/"
        },
        "id": "31ye9IZ3X4Cx",
        "outputId": "3aebd4e6-a86c-4c25-f64f-7629248b979f"
      },
      "execution_count": null,
      "outputs": [
        {
          "output_type": "stream",
          "name": "stdout",
          "text": [
            "[nltk_data] Downloading package rslp to /root/nltk_data...\n",
            "[nltk_data]   Unzipping stemmers/rslp.zip.\n"
          ]
        },
        {
          "output_type": "execute_result",
          "data": {
            "text/plain": [
              "True"
            ]
          },
          "metadata": {},
          "execution_count": 118
        }
      ]
    },
    {
      "cell_type": "code",
      "source": [
        "stemmer = nltk.stem.RSLPStemmer()\n"
      ],
      "metadata": {
        "id": "YjWRHRkAUte5"
      },
      "execution_count": null,
      "outputs": []
    },
    {
      "cell_type": "code",
      "source": [
        "output"
      ],
      "metadata": {
        "colab": {
          "base_uri": "https://localhost:8080/",
          "height": 35
        },
        "id": "_1-TY9y8X7P3",
        "outputId": "c60cec1f-20dc-4be1-c19d-984803846d00"
      },
      "execution_count": null,
      "outputs": [
        {
          "output_type": "execute_result",
          "data": {
            "application/vnd.google.colaboratory.intrinsic+json": {
              "type": "string"
            },
            "text/plain": [
              "'5 queijos nacionais premiados pais experimentar brasil perdeu so franca'"
            ]
          },
          "metadata": {},
          "execution_count": 120
        }
      ]
    },
    {
      "cell_type": "code",
      "source": [
        "otp = nltk.word_tokenize(output)"
      ],
      "metadata": {
        "id": "YYLBYIh8i8L8"
      },
      "execution_count": null,
      "outputs": []
    },
    {
      "cell_type": "code",
      "source": [
        "otp"
      ],
      "metadata": {
        "colab": {
          "base_uri": "https://localhost:8080/"
        },
        "id": "nsQOp52YjMnj",
        "outputId": "5395dc60-d55d-4792-83e3-e0bb1eab1fe1"
      },
      "execution_count": null,
      "outputs": [
        {
          "output_type": "execute_result",
          "data": {
            "text/plain": [
              "['5',\n",
              " 'queijos',\n",
              " 'nacionais',\n",
              " 'premiados',\n",
              " 'pais',\n",
              " 'experimentar',\n",
              " 'brasil',\n",
              " 'perdeu',\n",
              " 'so',\n",
              " 'franca']"
            ]
          },
          "metadata": {},
          "execution_count": 123
        }
      ]
    },
    {
      "cell_type": "code",
      "source": [
        "stemm = []\n",
        "for token in otp:\n",
        "  stemm.append(stemmer.stem(token))"
      ],
      "metadata": {
        "id": "wQL7Vgz5jOjj"
      },
      "execution_count": null,
      "outputs": []
    },
    {
      "cell_type": "code",
      "source": [
        "stemm"
      ],
      "metadata": {
        "colab": {
          "base_uri": "https://localhost:8080/"
        },
        "id": "gVV88kqLjmXb",
        "outputId": "320577c0-7950-4857-9a52-fd5e65520840"
      },
      "execution_count": null,
      "outputs": [
        {
          "output_type": "execute_result",
          "data": {
            "text/plain": [
              "['5',\n",
              " 'queij',\n",
              " 'nacion',\n",
              " 'premi',\n",
              " 'pal',\n",
              " 'experiment',\n",
              " 'brasil',\n",
              " 'perd',\n",
              " 'so',\n",
              " 'franc']"
            ]
          },
          "metadata": {},
          "execution_count": 127
        }
      ]
    },
    {
      "cell_type": "code",
      "source": [
        "from nltk.stem import WordNetLemmatizer\n",
        "nltk.download('wordnet')"
      ],
      "metadata": {
        "colab": {
          "base_uri": "https://localhost:8080/"
        },
        "id": "7d6iQOs2jnoL",
        "outputId": "e7b17f37-1fe4-4cba-c035-a3430da79eca"
      },
      "execution_count": null,
      "outputs": [
        {
          "output_type": "stream",
          "name": "stdout",
          "text": [
            "[nltk_data] Downloading package wordnet to /root/nltk_data...\n",
            "[nltk_data]   Unzipping corpora/wordnet.zip.\n"
          ]
        },
        {
          "output_type": "execute_result",
          "data": {
            "text/plain": [
              "True"
            ]
          },
          "metadata": {},
          "execution_count": 128
        }
      ]
    },
    {
      "cell_type": "code",
      "source": [
        "lemmatizer = WordNetLemmatizer()"
      ],
      "metadata": {
        "id": "KsYl4gclkM0U"
      },
      "execution_count": null,
      "outputs": []
    },
    {
      "cell_type": "code",
      "source": [
        "#Essa função funciona principalmente em inglês. Em português várias atividades tem que ser jogadas em um tradutor.\n",
        "\n",
        "lemm = []\n",
        "for token in otp:\n",
        "  lemm.append(lemmatizer.lemmatize(token))"
      ],
      "metadata": {
        "id": "Ko25ebv1kUsD"
      },
      "execution_count": null,
      "outputs": []
    },
    {
      "cell_type": "code",
      "source": [
        "lemm"
      ],
      "metadata": {
        "colab": {
          "base_uri": "https://localhost:8080/"
        },
        "id": "jCjE4PN5kd0q",
        "outputId": "058bb680-8b99-4d6b-bbc5-a44319a7e990"
      },
      "execution_count": null,
      "outputs": [
        {
          "output_type": "execute_result",
          "data": {
            "text/plain": [
              "['5',\n",
              " 'queijos',\n",
              " 'nacionais',\n",
              " 'premiados',\n",
              " 'pais',\n",
              " 'experimentar',\n",
              " 'brasil',\n",
              " 'perdeu',\n",
              " 'so',\n",
              " 'franca']"
            ]
          },
          "metadata": {},
          "execution_count": 133
        }
      ]
    },
    {
      "cell_type": "code",
      "source": [
        "# Spacy (biblioteca muito boa e completa)\n",
        "\n",
        "import spacy\n",
        "\n"
      ],
      "metadata": {
        "id": "6oVXbG4okfqC"
      },
      "execution_count": null,
      "outputs": []
    },
    {
      "cell_type": "code",
      "source": [
        "!python -m spacy download pt"
      ],
      "metadata": {
        "colab": {
          "base_uri": "https://localhost:8080/"
        },
        "id": "MIeaIm-0mlBi",
        "outputId": "d812111a-c31f-4ec4-ab32-861e9c2fc431"
      },
      "execution_count": null,
      "outputs": [
        {
          "output_type": "stream",
          "name": "stdout",
          "text": [
            "Collecting pt_core_news_sm==2.2.5\n",
            "  Downloading https://github.com/explosion/spacy-models/releases/download/pt_core_news_sm-2.2.5/pt_core_news_sm-2.2.5.tar.gz (21.2 MB)\n",
            "\u001b[K     |████████████████████████████████| 21.2 MB 1.2 MB/s \n",
            "\u001b[?25hRequirement already satisfied: spacy>=2.2.2 in /usr/local/lib/python3.7/dist-packages (from pt_core_news_sm==2.2.5) (2.2.4)\n",
            "Requirement already satisfied: plac<1.2.0,>=0.9.6 in /usr/local/lib/python3.7/dist-packages (from spacy>=2.2.2->pt_core_news_sm==2.2.5) (1.1.3)\n",
            "Requirement already satisfied: catalogue<1.1.0,>=0.0.7 in /usr/local/lib/python3.7/dist-packages (from spacy>=2.2.2->pt_core_news_sm==2.2.5) (1.0.0)\n",
            "Requirement already satisfied: setuptools in /usr/local/lib/python3.7/dist-packages (from spacy>=2.2.2->pt_core_news_sm==2.2.5) (57.4.0)\n",
            "Requirement already satisfied: wasabi<1.1.0,>=0.4.0 in /usr/local/lib/python3.7/dist-packages (from spacy>=2.2.2->pt_core_news_sm==2.2.5) (0.9.0)\n",
            "Requirement already satisfied: thinc==7.4.0 in /usr/local/lib/python3.7/dist-packages (from spacy>=2.2.2->pt_core_news_sm==2.2.5) (7.4.0)\n",
            "Requirement already satisfied: srsly<1.1.0,>=1.0.2 in /usr/local/lib/python3.7/dist-packages (from spacy>=2.2.2->pt_core_news_sm==2.2.5) (1.0.5)\n",
            "Requirement already satisfied: numpy>=1.15.0 in /usr/local/lib/python3.7/dist-packages (from spacy>=2.2.2->pt_core_news_sm==2.2.5) (1.19.5)\n",
            "Requirement already satisfied: cymem<2.1.0,>=2.0.2 in /usr/local/lib/python3.7/dist-packages (from spacy>=2.2.2->pt_core_news_sm==2.2.5) (2.0.6)\n",
            "Requirement already satisfied: preshed<3.1.0,>=3.0.2 in /usr/local/lib/python3.7/dist-packages (from spacy>=2.2.2->pt_core_news_sm==2.2.5) (3.0.6)\n",
            "Requirement already satisfied: murmurhash<1.1.0,>=0.28.0 in /usr/local/lib/python3.7/dist-packages (from spacy>=2.2.2->pt_core_news_sm==2.2.5) (1.0.6)\n",
            "Requirement already satisfied: requests<3.0.0,>=2.13.0 in /usr/local/lib/python3.7/dist-packages (from spacy>=2.2.2->pt_core_news_sm==2.2.5) (2.23.0)\n",
            "Requirement already satisfied: blis<0.5.0,>=0.4.0 in /usr/local/lib/python3.7/dist-packages (from spacy>=2.2.2->pt_core_news_sm==2.2.5) (0.4.1)\n",
            "Requirement already satisfied: tqdm<5.0.0,>=4.38.0 in /usr/local/lib/python3.7/dist-packages (from spacy>=2.2.2->pt_core_news_sm==2.2.5) (4.62.3)\n",
            "Requirement already satisfied: importlib-metadata>=0.20 in /usr/local/lib/python3.7/dist-packages (from catalogue<1.1.0,>=0.0.7->spacy>=2.2.2->pt_core_news_sm==2.2.5) (4.10.1)\n",
            "Requirement already satisfied: typing-extensions>=3.6.4 in /usr/local/lib/python3.7/dist-packages (from importlib-metadata>=0.20->catalogue<1.1.0,>=0.0.7->spacy>=2.2.2->pt_core_news_sm==2.2.5) (3.10.0.2)\n",
            "Requirement already satisfied: zipp>=0.5 in /usr/local/lib/python3.7/dist-packages (from importlib-metadata>=0.20->catalogue<1.1.0,>=0.0.7->spacy>=2.2.2->pt_core_news_sm==2.2.5) (3.7.0)\n",
            "Requirement already satisfied: certifi>=2017.4.17 in /usr/local/lib/python3.7/dist-packages (from requests<3.0.0,>=2.13.0->spacy>=2.2.2->pt_core_news_sm==2.2.5) (2021.10.8)\n",
            "Requirement already satisfied: urllib3!=1.25.0,!=1.25.1,<1.26,>=1.21.1 in /usr/local/lib/python3.7/dist-packages (from requests<3.0.0,>=2.13.0->spacy>=2.2.2->pt_core_news_sm==2.2.5) (1.24.3)\n",
            "Requirement already satisfied: idna<3,>=2.5 in /usr/local/lib/python3.7/dist-packages (from requests<3.0.0,>=2.13.0->spacy>=2.2.2->pt_core_news_sm==2.2.5) (2.10)\n",
            "Requirement already satisfied: chardet<4,>=3.0.2 in /usr/local/lib/python3.7/dist-packages (from requests<3.0.0,>=2.13.0->spacy>=2.2.2->pt_core_news_sm==2.2.5) (3.0.4)\n",
            "Building wheels for collected packages: pt-core-news-sm\n",
            "  Building wheel for pt-core-news-sm (setup.py) ... \u001b[?25l\u001b[?25hdone\n",
            "  Created wheel for pt-core-news-sm: filename=pt_core_news_sm-2.2.5-py3-none-any.whl size=21186281 sha256=a39203ad6fb3e05ab44eb6f3436084636153d2b83582216e70ef486d21c274bd\n",
            "  Stored in directory: /tmp/pip-ephem-wheel-cache-v72mjbnm/wheels/c3/f9/0c/5c014a36941a00f5df5fc0756cb961d7c457a978e697a6ce3b\n",
            "Successfully built pt-core-news-sm\n",
            "Installing collected packages: pt-core-news-sm\n",
            "Successfully installed pt-core-news-sm-2.2.5\n",
            "\u001b[38;5;2m✔ Download and installation successful\u001b[0m\n",
            "You can now load the model via spacy.load('pt_core_news_sm')\n",
            "\u001b[38;5;2m✔ Linking successful\u001b[0m\n",
            "/usr/local/lib/python3.7/dist-packages/pt_core_news_sm -->\n",
            "/usr/local/lib/python3.7/dist-packages/spacy/data/pt\n",
            "You can now load the model via spacy.load('pt')\n"
          ]
        }
      ]
    },
    {
      "cell_type": "code",
      "source": [
        "nlp = spacy.load('pt')"
      ],
      "metadata": {
        "id": "DeczfyVPm8i5"
      },
      "execution_count": null,
      "outputs": []
    },
    {
      "cell_type": "code",
      "source": [
        "doc = nlp('Martinho da Vila canta otimismo pelo país em novo álbum com Djonga e Teresa Cristina.')"
      ],
      "metadata": {
        "id": "lJovonwrnDxp"
      },
      "execution_count": null,
      "outputs": []
    },
    {
      "cell_type": "code",
      "source": [
        "doc"
      ],
      "metadata": {
        "colab": {
          "base_uri": "https://localhost:8080/"
        },
        "id": "RvF7n5SNnfJI",
        "outputId": "12e1af1f-394d-43a8-c30c-89ce1e7e4794"
      },
      "execution_count": null,
      "outputs": [
        {
          "output_type": "execute_result",
          "data": {
            "text/plain": [
              "Martinho da Vila canta otimismo pelo país em novo álbum com Djonga e Teresa Cristina."
            ]
          },
          "metadata": {},
          "execution_count": 142
        }
      ]
    },
    {
      "cell_type": "code",
      "source": [
        "for token in doc:\n",
        "  print(token.text, ' POS : ' ,token.pos_, 'LEMMA:', token.lemma_)"
      ],
      "metadata": {
        "colab": {
          "base_uri": "https://localhost:8080/"
        },
        "id": "wQxIhx5znfjK",
        "outputId": "ab28b001-56fd-4488-cd57-acaeee993831"
      },
      "execution_count": null,
      "outputs": [
        {
          "output_type": "stream",
          "name": "stdout",
          "text": [
            "Martinho  POS :  PROPN LEMMA: Martinho\n",
            "da  POS :  ADP LEMMA: da\n",
            "Vila  POS :  PROPN LEMMA: Vila\n",
            "canta  POS :  VERB LEMMA: cantar\n",
            "otimismo  POS :  NOUN LEMMA: otimismo\n",
            "pelo  POS :  PROPN LEMMA: pelar\n",
            "país  POS :  PROPN LEMMA: país\n",
            "em  POS :  ADP LEMMA: em\n",
            "novo  POS :  ADJ LEMMA: novo\n",
            "álbum  POS :  NOUN LEMMA: álbum\n",
            "com  POS :  ADP LEMMA: com\n",
            "Djonga  POS :  PROPN LEMMA: Djonga\n",
            "e  POS :  CCONJ LEMMA: e\n",
            "Teresa  POS :  PROPN LEMMA: Teresa\n",
            "Cristina  POS :  PROPN LEMMA: Cristina\n",
            ".  POS :  PUNCT LEMMA: .\n"
          ]
        }
      ]
    },
    {
      "cell_type": "code",
      "source": [
        "# O spacy consegue encontrar as entidades envolvidas, e isso é muito usado. Saber quem são as pessoas que estão envolvidas em uma notícia, por exemplo. Existe um rótulo para lugares e organizações também.\n",
        "# Sistema de recomendação baseado em review.\n",
        "\n",
        "doc.ents"
      ],
      "metadata": {
        "colab": {
          "base_uri": "https://localhost:8080/"
        },
        "id": "ubHP1faGnlT6",
        "outputId": "be2bfa04-8766-4d5b-da90-1f701bbfae55"
      },
      "execution_count": null,
      "outputs": [
        {
          "output_type": "execute_result",
          "data": {
            "text/plain": [
              "(Martinho da Vila, Djonga, Teresa Cristina)"
            ]
          },
          "metadata": {},
          "execution_count": 151
        }
      ]
    },
    {
      "cell_type": "code",
      "source": [
        "from spacy import displacy"
      ],
      "metadata": {
        "id": "ce9CBNvYpCYp"
      },
      "execution_count": null,
      "outputs": []
    },
    {
      "cell_type": "code",
      "source": [
        "displacy.render(doc,style='ent',jupyter=True)"
      ],
      "metadata": {
        "colab": {
          "base_uri": "https://localhost:8080/",
          "height": 52
        },
        "id": "btAA-wfxpL1B",
        "outputId": "2e2dc163-2885-42ac-8b90-a81e46cdf441"
      },
      "execution_count": null,
      "outputs": [
        {
          "output_type": "display_data",
          "data": {
            "text/html": [
              "<span class=\"tex2jax_ignore\"><div class=\"entities\" style=\"line-height: 2.5; direction: ltr\">\n",
              "<mark class=\"entity\" style=\"background: #ff9561; padding: 0.45em 0.6em; margin: 0 0.25em; line-height: 1; border-radius: 0.35em;\">\n",
              "    Martinho da Vila\n",
              "    <span style=\"font-size: 0.8em; font-weight: bold; line-height: 1; border-radius: 0.35em; text-transform: uppercase; vertical-align: middle; margin-left: 0.5rem\">LOC</span>\n",
              "</mark>\n",
              " canta otimismo pelo país em novo álbum com \n",
              "<mark class=\"entity\" style=\"background: #ddd; padding: 0.45em 0.6em; margin: 0 0.25em; line-height: 1; border-radius: 0.35em;\">\n",
              "    Djonga\n",
              "    <span style=\"font-size: 0.8em; font-weight: bold; line-height: 1; border-radius: 0.35em; text-transform: uppercase; vertical-align: middle; margin-left: 0.5rem\">PER</span>\n",
              "</mark>\n",
              " e \n",
              "<mark class=\"entity\" style=\"background: #ddd; padding: 0.45em 0.6em; margin: 0 0.25em; line-height: 1; border-radius: 0.35em;\">\n",
              "    Teresa Cristina\n",
              "    <span style=\"font-size: 0.8em; font-weight: bold; line-height: 1; border-radius: 0.35em; text-transform: uppercase; vertical-align: middle; margin-left: 0.5rem\">PER</span>\n",
              "</mark>\n",
              ".</div></span>"
            ],
            "text/plain": [
              "<IPython.core.display.HTML object>"
            ]
          },
          "metadata": {}
        }
      ]
    },
    {
      "cell_type": "code",
      "source": [
        "texto_qualquer = '''Luiza que está no Canadá é um meme da Internet brasileiro que surgiu a partir de um comercial de um prédio residencial na Paraíba, do Boulevard Saint Germain, veiculado em janeiro de 2012. No anúncio, Geraldo Rabello convida a família para falar sobre o empreendimento, menos Luiza, que estava no Canadá. A frase logo se popularizou no Twitter e Facebook, tornando-se rapidamente um dos assuntos mais comentados da primeira rede social. A frase foi citada por celebridades e empresas, além de inspirar a criação de um jogo, e Geraldo se mostrou surpreso com a repercussão.\n",
        "\n",
        "Luiza retornou ao Brasil no dia 17 de janeiro, comentando que estava ansiosa e nervosa. Logo mais, gravou um novo comercial para substituir o anterior gravado pelo pai. Após isso, uma rede oficial do governo publicou uma piada citando o meme, causando controvérsia.'''"
      ],
      "metadata": {
        "id": "coCkfbNwpXuB"
      },
      "execution_count": null,
      "outputs": []
    },
    {
      "cell_type": "code",
      "source": [
        "texto_qualquer"
      ],
      "metadata": {
        "colab": {
          "base_uri": "https://localhost:8080/",
          "height": 87
        },
        "id": "M9biEfvyqZch",
        "outputId": "891d9938-9f99-4625-80aa-058816afc1e1"
      },
      "execution_count": null,
      "outputs": [
        {
          "output_type": "execute_result",
          "data": {
            "application/vnd.google.colaboratory.intrinsic+json": {
              "type": "string"
            },
            "text/plain": [
              "'Luiza que está no Canadá é um meme da Internet brasileiro que surgiu a partir de um comercial de um prédio residencial na Paraíba, do Boulevard Saint Germain, veiculado em janeiro de 2012. No anúncio, Geraldo Rabello convida a família para falar sobre o empreendimento, menos Luiza, que estava no Canadá. A frase logo se popularizou no Twitter e Facebook, tornando-se rapidamente um dos assuntos mais comentados da primeira rede social. A frase foi citada por celebridades e empresas, além de inspirar a criação de um jogo, e Geraldo se mostrou surpreso com a repercussão.\\n\\nLuiza retornou ao Brasil no dia 17 de janeiro, comentando que estava ansiosa e nervosa. Logo mais, gravou um novo comercial para substituir o anterior gravado pelo pai. Após isso, uma rede oficial do governo publicou uma piada citando o meme, causando controvérsia.'"
            ]
          },
          "metadata": {},
          "execution_count": 157
        }
      ]
    },
    {
      "cell_type": "code",
      "source": [
        "doc = nlp(texto_qualquer)"
      ],
      "metadata": {
        "id": "K-Sm85jsqrbB"
      },
      "execution_count": null,
      "outputs": []
    },
    {
      "cell_type": "code",
      "source": [
        "displacy.render(doc,style='ent',jupyter=True)"
      ],
      "metadata": {
        "id": "UNJe6GEjqvvh"
      },
      "execution_count": null,
      "outputs": []
    },
    {
      "cell_type": "code",
      "source": [
        "doc.ents"
      ],
      "metadata": {
        "id": "_wD4J1VQqxI5"
      },
      "execution_count": null,
      "outputs": []
    },
    {
      "cell_type": "code",
      "source": [
        "all_titles"
      ],
      "metadata": {
        "id": "5qZ2Kaa_rBFo"
      },
      "execution_count": null,
      "outputs": []
    },
    {
      "cell_type": "code",
      "source": [
        "import pandas as pd"
      ],
      "metadata": {
        "id": "OnWR-ndgsUZC"
      },
      "execution_count": null,
      "outputs": []
    },
    {
      "cell_type": "code",
      "source": [
        "df_noticias = pd.DataFrame(all_titles, columns=['original'])"
      ],
      "metadata": {
        "id": "uDGvCDLdrYp5"
      },
      "execution_count": null,
      "outputs": []
    },
    {
      "cell_type": "code",
      "source": [
        "def findEnt(text):\n",
        "  doc = nlp(text)\n",
        "  return list(doc.ents)"
      ],
      "metadata": {
        "id": "FyNU2iEXsy9Z"
      },
      "execution_count": null,
      "outputs": []
    },
    {
      "cell_type": "code",
      "source": [
        "df_noticias['entidades'] = df_noticias['original'].apply(lambda x: findEnt(x))"
      ],
      "metadata": {
        "id": "IGKygatrsVyh"
      },
      "execution_count": null,
      "outputs": []
    },
    {
      "cell_type": "code",
      "source": [
        "df_noticias"
      ],
      "metadata": {
        "colab": {
          "base_uri": "https://localhost:8080/",
          "height": 424
        },
        "id": "dIUcvhq-sYk4",
        "outputId": "2f6f7651-fab5-401a-b0df-dc9f45c69b3c"
      },
      "execution_count": null,
      "outputs": [
        {
          "output_type": "execute_result",
          "data": {
            "text/html": [
              "\n",
              "  <div id=\"df-59f60382-09d9-4298-9cb2-6d6eeaf3ae99\">\n",
              "    <div class=\"colab-df-container\">\n",
              "      <div>\n",
              "<style scoped>\n",
              "    .dataframe tbody tr th:only-of-type {\n",
              "        vertical-align: middle;\n",
              "    }\n",
              "\n",
              "    .dataframe tbody tr th {\n",
              "        vertical-align: top;\n",
              "    }\n",
              "\n",
              "    .dataframe thead th {\n",
              "        text-align: right;\n",
              "    }\n",
              "</style>\n",
              "<table border=\"1\" class=\"dataframe\">\n",
              "  <thead>\n",
              "    <tr style=\"text-align: right;\">\n",
              "      <th></th>\n",
              "      <th>original</th>\n",
              "      <th>entidades</th>\n",
              "    </tr>\n",
              "  </thead>\n",
              "  <tbody>\n",
              "    <tr>\n",
              "      <th>0</th>\n",
              "      <td>EUA dizem que Rússia acelerou atividade milita...</td>\n",
              "      <td>[(EUA), (Rússia), (Ucrânia)]</td>\n",
              "    </tr>\n",
              "    <tr>\n",
              "      <th>1</th>\n",
              "      <td>Voos que deveriam aterrissar na Ucrânia são re...</td>\n",
              "      <td>[(Ucrânia), (Europa)]</td>\n",
              "    </tr>\n",
              "    <tr>\n",
              "      <th>2</th>\n",
              "      <td>Risco de iminente ataque à Ucrânia deixa a Ot...</td>\n",
              "      <td>[(Ucrânia), (Otan)]</td>\n",
              "    </tr>\n",
              "    <tr>\n",
              "      <th>3</th>\n",
              "      <td>Vídeo: funcionários americanos da OSCE deixam ...</td>\n",
              "      <td>[(OSCE), (Donetsk)]</td>\n",
              "    </tr>\n",
              "    <tr>\n",
              "      <th>4</th>\n",
              "      <td>Gol de cabeça aos 48 de Gabi Zanotti dá título...</td>\n",
              "      <td>[(Gol), (Gabi, Zanotti), (Supercopa, para, o, ...</td>\n",
              "    </tr>\n",
              "    <tr>\n",
              "      <th>...</th>\n",
              "      <td>...</td>\n",
              "      <td>...</td>\n",
              "    </tr>\n",
              "    <tr>\n",
              "      <th>57</th>\n",
              "      <td>Arthur Aguiar revela condição para indicar Jad...</td>\n",
              "      <td>[(Arthur, Aguiar), (Jade, Picon), (Paredão), (...</td>\n",
              "    </tr>\n",
              "    <tr>\n",
              "      <th>58</th>\n",
              "      <td>Arthur foi abandonado pelo pai biológico, cres...</td>\n",
              "      <td>[(Arthur)]</td>\n",
              "    </tr>\n",
              "    <tr>\n",
              "      <th>59</th>\n",
              "      <td>Rafa Kalimann e Mariana Goldfarb tomam banho d...</td>\n",
              "      <td>[(Rafa, Kalimann), (Mariana, Goldfarb)]</td>\n",
              "    </tr>\n",
              "    <tr>\n",
              "      <th>60</th>\n",
              "      <td>Ex de Jade fica entre os assuntos mais comenta...</td>\n",
              "      <td>[(Jade), (PA)]</td>\n",
              "    </tr>\n",
              "    <tr>\n",
              "      <th>61</th>\n",
              "      <td>Líder Jade Picon revela possível plano para pr...</td>\n",
              "      <td>[(Líder, Jade), (Paredão), (BBB)]</td>\n",
              "    </tr>\n",
              "  </tbody>\n",
              "</table>\n",
              "<p>62 rows × 2 columns</p>\n",
              "</div>\n",
              "      <button class=\"colab-df-convert\" onclick=\"convertToInteractive('df-59f60382-09d9-4298-9cb2-6d6eeaf3ae99')\"\n",
              "              title=\"Convert this dataframe to an interactive table.\"\n",
              "              style=\"display:none;\">\n",
              "        \n",
              "  <svg xmlns=\"http://www.w3.org/2000/svg\" height=\"24px\"viewBox=\"0 0 24 24\"\n",
              "       width=\"24px\">\n",
              "    <path d=\"M0 0h24v24H0V0z\" fill=\"none\"/>\n",
              "    <path d=\"M18.56 5.44l.94 2.06.94-2.06 2.06-.94-2.06-.94-.94-2.06-.94 2.06-2.06.94zm-11 1L8.5 8.5l.94-2.06 2.06-.94-2.06-.94L8.5 2.5l-.94 2.06-2.06.94zm10 10l.94 2.06.94-2.06 2.06-.94-2.06-.94-.94-2.06-.94 2.06-2.06.94z\"/><path d=\"M17.41 7.96l-1.37-1.37c-.4-.4-.92-.59-1.43-.59-.52 0-1.04.2-1.43.59L10.3 9.45l-7.72 7.72c-.78.78-.78 2.05 0 2.83L4 21.41c.39.39.9.59 1.41.59.51 0 1.02-.2 1.41-.59l7.78-7.78 2.81-2.81c.8-.78.8-2.07 0-2.86zM5.41 20L4 18.59l7.72-7.72 1.47 1.35L5.41 20z\"/>\n",
              "  </svg>\n",
              "      </button>\n",
              "      \n",
              "  <style>\n",
              "    .colab-df-container {\n",
              "      display:flex;\n",
              "      flex-wrap:wrap;\n",
              "      gap: 12px;\n",
              "    }\n",
              "\n",
              "    .colab-df-convert {\n",
              "      background-color: #E8F0FE;\n",
              "      border: none;\n",
              "      border-radius: 50%;\n",
              "      cursor: pointer;\n",
              "      display: none;\n",
              "      fill: #1967D2;\n",
              "      height: 32px;\n",
              "      padding: 0 0 0 0;\n",
              "      width: 32px;\n",
              "    }\n",
              "\n",
              "    .colab-df-convert:hover {\n",
              "      background-color: #E2EBFA;\n",
              "      box-shadow: 0px 1px 2px rgba(60, 64, 67, 0.3), 0px 1px 3px 1px rgba(60, 64, 67, 0.15);\n",
              "      fill: #174EA6;\n",
              "    }\n",
              "\n",
              "    [theme=dark] .colab-df-convert {\n",
              "      background-color: #3B4455;\n",
              "      fill: #D2E3FC;\n",
              "    }\n",
              "\n",
              "    [theme=dark] .colab-df-convert:hover {\n",
              "      background-color: #434B5C;\n",
              "      box-shadow: 0px 1px 3px 1px rgba(0, 0, 0, 0.15);\n",
              "      filter: drop-shadow(0px 1px 2px rgba(0, 0, 0, 0.3));\n",
              "      fill: #FFFFFF;\n",
              "    }\n",
              "  </style>\n",
              "\n",
              "      <script>\n",
              "        const buttonEl =\n",
              "          document.querySelector('#df-59f60382-09d9-4298-9cb2-6d6eeaf3ae99 button.colab-df-convert');\n",
              "        buttonEl.style.display =\n",
              "          google.colab.kernel.accessAllowed ? 'block' : 'none';\n",
              "\n",
              "        async function convertToInteractive(key) {\n",
              "          const element = document.querySelector('#df-59f60382-09d9-4298-9cb2-6d6eeaf3ae99');\n",
              "          const dataTable =\n",
              "            await google.colab.kernel.invokeFunction('convertToInteractive',\n",
              "                                                     [key], {});\n",
              "          if (!dataTable) return;\n",
              "\n",
              "          const docLinkHtml = 'Like what you see? Visit the ' +\n",
              "            '<a target=\"_blank\" href=https://colab.research.google.com/notebooks/data_table.ipynb>data table notebook</a>'\n",
              "            + ' to learn more about interactive tables.';\n",
              "          element.innerHTML = '';\n",
              "          dataTable['output_type'] = 'display_data';\n",
              "          await google.colab.output.renderOutput(dataTable, element);\n",
              "          const docLink = document.createElement('div');\n",
              "          docLink.innerHTML = docLinkHtml;\n",
              "          element.appendChild(docLink);\n",
              "        }\n",
              "      </script>\n",
              "    </div>\n",
              "  </div>\n",
              "  "
            ],
            "text/plain": [
              "                                             original                                          entidades\n",
              "0   EUA dizem que Rússia acelerou atividade milita...                       [(EUA), (Rússia), (Ucrânia)]\n",
              "1   Voos que deveriam aterrissar na Ucrânia são re...                              [(Ucrânia), (Europa)]\n",
              "2    Risco de iminente ataque à Ucrânia deixa a Ot...                                [(Ucrânia), (Otan)]\n",
              "3   Vídeo: funcionários americanos da OSCE deixam ...                                [(OSCE), (Donetsk)]\n",
              "4   Gol de cabeça aos 48 de Gabi Zanotti dá título...  [(Gol), (Gabi, Zanotti), (Supercopa, para, o, ...\n",
              "..                                                ...                                                ...\n",
              "57  Arthur Aguiar revela condição para indicar Jad...  [(Arthur, Aguiar), (Jade, Picon), (Paredão), (...\n",
              "58  Arthur foi abandonado pelo pai biológico, cres...                                         [(Arthur)]\n",
              "59  Rafa Kalimann e Mariana Goldfarb tomam banho d...            [(Rafa, Kalimann), (Mariana, Goldfarb)]\n",
              "60  Ex de Jade fica entre os assuntos mais comenta...                                     [(Jade), (PA)]\n",
              "61  Líder Jade Picon revela possível plano para pr...                  [(Líder, Jade), (Paredão), (BBB)]\n",
              "\n",
              "[62 rows x 2 columns]"
            ]
          },
          "metadata": {},
          "execution_count": 171
        }
      ]
    },
    {
      "cell_type": "code",
      "source": [
        "\n",
        "\n",
        "# Coisas importantes do DataSet. Pegar tokens e deixá-los com o minímo grau de interferência possível. Identificar elementos importantes do texto, que são as entidades (pessoas envolvidas, lugares, empresas).\n",
        "# Toda classificação precisa de um conhecimento prévio (exceto em problemas de aprendizado não supervisionado, onde são feitos clusters tentando buscar padrões nos dados)"
      ],
      "metadata": {
        "id": "G5qGGKFltbgg"
      },
      "execution_count": null,
      "outputs": []
    }
  ]
}